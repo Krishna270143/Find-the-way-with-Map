{
 "cells": [
  {
   "cell_type": "code",
   "execution_count": null,
   "id": "bf23bdaf",
   "metadata": {},
   "outputs": [],
   "source": [
    "## Find the way with Maps"
   ]
  },
  {
   "cell_type": "code",
   "execution_count": 1,
   "id": "01b89bd0",
   "metadata": {},
   "outputs": [
    {
     "name": "stdout",
     "output_type": "stream",
     "text": [
      "Original list:  (1, 2, 3, 4, 5, 6, 7)\n",
      "\n",
      "Triple of said list numbers:\n",
      "[3, 6, 9, 12, 15, 18, 21]\n"
     ]
    }
   ],
   "source": [
    "list1 = (1, 2, 3, 4, 5, 6, 7)                  # input list\n",
    "result = map(lambda x: x + x + x, list1)          # Adding the given number three times using maps and lambda \n",
    "print(\"Original list: \", list1)                  # original list to be print\n",
    "print(\"\\nTriple of said list numbers:\")             \n",
    "print(list(result))                             # final list that each number is added thrice"
   ]
  },
  {
   "cell_type": "code",
   "execution_count": null,
   "id": "92340fd8",
   "metadata": {},
   "outputs": [],
   "source": []
  },
  {
   "cell_type": "markdown",
   "id": "acdb71e5",
   "metadata": {},
   "source": [
    "# Test cases"
   ]
  },
  {
   "cell_type": "code",
   "execution_count": 2,
   "id": "f9ad1c32",
   "metadata": {},
   "outputs": [
    {
     "name": "stdout",
     "output_type": "stream",
     "text": [
      "Original list:  (-2, 2, 3, 10, 5, -6, 7)\n",
      "\n",
      "Triple of said list numbers:\n",
      "[-6, 6, 9, 30, 15, -18, 21]\n"
     ]
    }
   ],
   "source": [
    "num = (-2, 2, 3, 10, 5, -6, 7) \n",
    "result = map(lambda x: x + x + x, num) \n",
    "print(\"Original list: \", num)\n",
    "print(\"\\nTriple of said list numbers:\")\n",
    "print(list(result))"
   ]
  },
  {
   "cell_type": "code",
   "execution_count": null,
   "id": "581b4f99",
   "metadata": {},
   "outputs": [],
   "source": []
  },
  {
   "cell_type": "code",
   "execution_count": 4,
   "id": "59e9eaa0",
   "metadata": {},
   "outputs": [
    {
     "name": "stdout",
     "output_type": "stream",
     "text": [
      "Original list:  (-5, -2, -3, -4, 5, -6, 7)\n",
      "Triple of said list numbers:\n",
      "[-20, -8, -12, -16, 20, -24, 28]\n"
     ]
    }
   ],
   "source": [
    "list2 = (-5, -2, -3, -4, 5, -6, 7) \n",
    "result = map(lambda x: x + x + x + x, list2) \n",
    "print(\"Original list: \", list2)\n",
    "print(\"Triple of said list numbers:\")\n",
    "print(list(result))"
   ]
  },
  {
   "cell_type": "code",
   "execution_count": null,
   "id": "559d4ea2",
   "metadata": {},
   "outputs": [],
   "source": []
  }
 ],
 "metadata": {
  "kernelspec": {
   "display_name": "Python 3 (ipykernel)",
   "language": "python",
   "name": "python3"
  },
  "language_info": {
   "codemirror_mode": {
    "name": "ipython",
    "version": 3
   },
   "file_extension": ".py",
   "mimetype": "text/x-python",
   "name": "python",
   "nbconvert_exporter": "python",
   "pygments_lexer": "ipython3",
   "version": "3.10.0"
  }
 },
 "nbformat": 4,
 "nbformat_minor": 5
}
